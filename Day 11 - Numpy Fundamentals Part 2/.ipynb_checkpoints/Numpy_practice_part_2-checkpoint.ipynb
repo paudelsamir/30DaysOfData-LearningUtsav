{
 "cells": [
  {
   "cell_type": "code",
   "execution_count": 1,
   "id": "f3a54804-093d-4c16-b12b-f0c5bcc04046",
   "metadata": {},
   "outputs": [],
   "source": [
    "import numpy as np"
   ]
  },
  {
   "cell_type": "markdown",
   "id": "4d74bd98-9398-4786-9fa6-c0a4c2fe7664",
   "metadata": {},
   "source": [
    "## *5-Numpy for Data Cleaning*"
   ]
  },
  {
   "cell_type": "markdown",
   "id": "35392028-f02c-409d-9c85-9cee8f5517b1",
   "metadata": {},
   "source": [
    "Identifying Missing Value"
   ]
  },
  {
   "cell_type": "code",
   "execution_count": 13,
   "id": "b58ed953-9c97-41ba-85aa-91d2082c41ff",
   "metadata": {},
   "outputs": [
    {
     "data": {
      "text/plain": [
       "array([ 1., nan,  3., nan,  5.])"
      ]
     },
     "execution_count": 13,
     "metadata": {},
     "output_type": "execute_result"
    }
   ],
   "source": [
    "data = np.array([1, np.nan,3, np.nan,5])\n",
    "data"
   ]
  },
  {
   "cell_type": "code",
   "execution_count": 17,
   "id": "7c72c20c-7c3e-4f4d-a2b2-658f80ec8b26",
   "metadata": {},
   "outputs": [
    {
     "data": {
      "text/plain": [
       "array([False,  True, False,  True, False])"
      ]
     },
     "execution_count": 17,
     "metadata": {},
     "output_type": "execute_result"
    }
   ],
   "source": [
    "has_missing = np.isnan(data)\n",
    "has_missing"
   ]
  },
  {
   "cell_type": "markdown",
   "id": "7c813da0-b1de-4cfe-a081-d4c41f412715",
   "metadata": {},
   "source": [
    "Removing rows of column with missing values"
   ]
  },
  {
   "cell_type": "code",
   "execution_count": 34,
   "id": "48595c36-0601-47e6-b603-bfbe218dca6c",
   "metadata": {},
   "outputs": [
    {
     "data": {
      "text/plain": [
       "array([[1., 2., 3.],\n",
       "       [7., 8., 9.]])"
      ]
     },
     "execution_count": 34,
     "metadata": {},
     "output_type": "execute_result"
    }
   ],
   "source": [
    "data = np.array([[1, 2, 3], [4, np.nan, 6], [7, 8, 9]])\n",
    "data\n",
    "cleaned_data = data[~np.any(np.isnan(data), axis = 1)]\n",
    "cleaned_data"
   ]
  },
  {
   "cell_type": "markdown",
   "id": "ac913d6f-7b68-414a-8004-b83aeb7d173c",
   "metadata": {},
   "source": [
    "## *6 - Numpy for statistical Analysis*"
   ]
  },
  {
   "cell_type": "markdown",
   "id": "d3587c8a-7763-4a30-a745-10eb6ac4968e",
   "metadata": {},
   "source": [
    "Data Transformation"
   ]
  },
  {
   "cell_type": "code",
   "execution_count": 44,
   "id": "5e970dbb-6203-45f6-9f17-94b923c55452",
   "metadata": {},
   "outputs": [
    {
     "data": {
      "text/plain": [
       "array([-20., -10.,   0.,  10.,  20.])"
      ]
     },
     "execution_count": 44,
     "metadata": {},
     "output_type": "execute_result"
    }
   ],
   "source": [
    "data = np.array([10,20,30,40,50])\n",
    "mean = np.mean(data)\n",
    "centered_data = data - mean\n",
    "centered_data"
   ]
  },
  {
   "cell_type": "code",
   "execution_count": 46,
   "id": "8d5469d2-a27a-47c5-8dca-4a35358de34a",
   "metadata": {},
   "outputs": [
    {
     "data": {
      "text/plain": [
       "array([-1.41421356, -0.70710678,  0.        ,  0.70710678,  1.41421356])"
      ]
     },
     "execution_count": 46,
     "metadata": {},
     "output_type": "execute_result"
    }
   ],
   "source": [
    "std_dev = np.std(data)\n",
    "standarized_data = centered_data/std_dev\n",
    "standarized_data"
   ]
  },
  {
   "cell_type": "code",
   "execution_count": 48,
   "id": "255ab991-e90b-48fa-bf98-8251232507f0",
   "metadata": {},
   "outputs": [
    {
     "data": {
      "text/plain": [
       "array([2.30258509, 2.99573227, 3.40119738, 3.68887945, 3.91202301])"
      ]
     },
     "execution_count": 48,
     "metadata": {},
     "output_type": "execute_result"
    }
   ],
   "source": [
    "np.log(data)"
   ]
  },
  {
   "cell_type": "markdown",
   "id": "5aa5aef7-f1c6-42ef-a360-13304f851aaa",
   "metadata": {},
   "source": [
    "Random Sampling And Generation"
   ]
  },
  {
   "cell_type": "code",
   "execution_count": 98,
   "id": "2ad7a741-9546-4dc8-a666-f27ebfbca17f",
   "metadata": {},
   "outputs": [
    {
     "data": {
      "text/plain": [
       "array([6, 1, 7, 4, 5])"
      ]
     },
     "execution_count": 98,
     "metadata": {},
     "output_type": "execute_result"
    }
   ],
   "source": [
    "#Simple Random Sampling without replacement:\n",
    "data = np.array([1, 2, 3, 4, 5, 6, 7, 8, 9, 10])\n",
    "random_samples = np.random.choice(data, size = 5, replace = 'false')\n",
    "random_samples\n"
   ]
  },
  {
   "cell_type": "code",
   "execution_count": 134,
   "id": "ea46c8ba-18f8-4ae4-a342-9b4c63d546e7",
   "metadata": {},
   "outputs": [
    {
     "data": {
      "text/plain": [
       "array([[ 1, 10,  8],\n",
       "       [ 5,  4,  4]])"
      ]
     },
     "execution_count": 134,
     "metadata": {},
     "output_type": "execute_result"
    }
   ],
   "source": [
    "data = np.array([1, 2, 3, 4, 5, 6, 7, 8, 9, 10])\n",
    "random_samples = np.random.choice(data, size = (2,3), replace = 'false')\n",
    "random_samples"
   ]
  },
  {
   "cell_type": "code",
   "execution_count": 140,
   "id": "bf28fa92-4cd7-41f0-aa74-066c7eb3b803",
   "metadata": {},
   "outputs": [
    {
     "data": {
      "text/plain": [
       "array([[ 8,  2,  9, ...,  1,  1, 10],\n",
       "       [ 6, 10,  8, ...,  2,  4,  2],\n",
       "       [ 3,  6,  9, ...,  9,  4,  6],\n",
       "       ...,\n",
       "       [ 1,  7,  7, ...,  9,  4, 10],\n",
       "       [ 8, 10,  1, ...,  3,  5,  2],\n",
       "       [ 5,  8,  5, ...,  4,  9,  6]])"
      ]
     },
     "execution_count": 140,
     "metadata": {},
     "output_type": "execute_result"
    }
   ],
   "source": [
    "num_samples = 1000\n",
    "bootstrap_samples = np.random.choice(data, size=(num_samples, len(data)), replace=True)\n",
    "bootstrap_samples\n"
   ]
  },
  {
   "cell_type": "markdown",
   "id": "db21ec09-5433-4a33-bbf8-f6234f71a6c2",
   "metadata": {},
   "source": [
    "**Generation**"
   ]
  },
  {
   "cell_type": "code",
   "execution_count": 143,
   "id": "e1fc486f-451c-464e-b95e-79b1b6f43189",
   "metadata": {},
   "outputs": [
    {
     "data": {
      "text/plain": [
       "71"
      ]
     },
     "execution_count": 143,
     "metadata": {},
     "output_type": "execute_result"
    }
   ],
   "source": [
    "np.random.randint(0,100)"
   ]
  },
  {
   "cell_type": "code",
   "execution_count": 147,
   "id": "8a32013d-bbc6-4f80-acb7-b685d773fafd",
   "metadata": {},
   "outputs": [
    {
     "data": {
      "text/plain": [
       "array([ 1.28687435,  0.23476354, -0.97353678,  0.9413084 ,  0.17542113])"
      ]
     },
     "execution_count": 147,
     "metadata": {},
     "output_type": "execute_result"
    }
   ],
   "source": [
    "mean = 0\n",
    "std = 1\n",
    "norm_val = np.random.normal(mean, std, 5)\n",
    "norm_val"
   ]
  },
  {
   "cell_type": "code",
   "execution_count": 151,
   "id": "817673a3-af65-4665-94e0-c0cdda7d5309",
   "metadata": {},
   "outputs": [
    {
     "name": "stdout",
     "output_type": "stream",
     "text": [
      "[ 0.40502116 -0.05914448 -1.26963932  2.08999637  0.41916549]\n"
     ]
    }
   ],
   "source": [
    " # Generates 5 random values from a standard normal distribution\n",
    "mean = 0\n",
    "std_dev = 1\n",
    "normal_values = np.random.normal(mean, std_dev, 5)\n",
    "print(normal_values)\n"
   ]
  },
  {
   "cell_type": "code",
   "execution_count": 159,
   "id": "04549854-fe0c-4e1a-a84b-c1fa7a0e1844",
   "metadata": {},
   "outputs": [
    {
     "name": "stdout",
     "output_type": "stream",
     "text": [
      "[6 6 7 6 5]\n"
     ]
    }
   ],
   "source": [
    " # Simulates 5 sets of 10 trials with a success probability of 0.5\n",
    "n_trials = 10\n",
    "probability = 0.5\n",
    "binomial_values = np.random.binomial(n_trials, probability, 5)\n",
    "print(binomial_values)\n"
   ]
  },
  {
   "cell_type": "code",
   "execution_count": 161,
   "id": "07379c4b-2205-42dd-bbda-91dacd9d410f",
   "metadata": {},
   "outputs": [
    {
     "name": "stdout",
     "output_type": "stream",
     "text": [
      "[2 4 4 1 4]\n"
     ]
    }
   ],
   "source": [
    "rate = 2.5\n",
    "poisson_values = np.random.poisson(rate, 5)\n",
    "print(poisson_values)\n"
   ]
  },
  {
   "cell_type": "code",
   "execution_count": 167,
   "id": "1d14970b-8d39-43ea-a789-aab766966106",
   "metadata": {},
   "outputs": [
    {
     "name": "stdout",
     "output_type": "stream",
     "text": [
      "[0.23152467 1.99403709 0.8480773  0.74082179 0.32647104]\n"
     ]
    }
   ],
   "source": [
    "# Generates 5 random values following an exponential distribution with a scale parameter of 0.5\n",
    "scale_parameter = 0.5\n",
    "exponential_values = np.random.exponential(scale_parameter, 5)\n",
    "print(exponential_values)\n"
   ]
  },
  {
   "cell_type": "code",
   "execution_count": 169,
   "id": "58939432-038a-4453-b19a-2dcb734fe206",
   "metadata": {},
   "outputs": [
    {
     "name": "stdout",
     "output_type": "stream",
     "text": [
      "[1.38796393 0.71815922 0.52587992 1.18957532 1.22893541]\n"
     ]
    }
   ],
   "source": [
    "# Generates 5 random values following a log-normal distribution\n",
    "mean_of_log = 0\n",
    "std_dev_of_log = 0.5\n",
    "lognormal_values = np.random.lognormal(mean_of_log, std_dev_of_log, 5)\n",
    "print(lognormal_values)\n"
   ]
  },
  {
   "cell_type": "code",
   "execution_count": 171,
   "id": "667dfd83-7c48-4641-a257-4c8eb4d7a9be",
   "metadata": {},
   "outputs": [
    {
     "name": "stdout",
     "output_type": "stream",
     "text": [
      "[[2 4 4]\n",
      " [0 4 6]\n",
      " [1 4 5]\n",
      " [1 5 4]\n",
      " [3 2 5]]\n"
     ]
    }
   ],
   "source": [
    "# Simulates 5 sets of 10 multinomial trials with the given probabilities\n",
    "n_trials = 10\n",
    "probabilities = [0.2, 0.3, 0.5] # Probabilities of each outcome\n",
    "multinomial_values = np.random.multinomial(n_trials, probabilities, 5)\n",
    "print(multinomial_values)\n"
   ]
  },
  {
   "cell_type": "markdown",
   "id": "96e69cf0-ae09-402f-9fb6-c41c6ad8f607",
   "metadata": {},
   "source": [
    "## *7- Numpy for linear Algebra*`"
   ]
  },
  {
   "cell_type": "code",
   "execution_count": 180,
   "id": "dfa12b36-5a16-4bd8-a55a-e0be560bc1f3",
   "metadata": {},
   "outputs": [
    {
     "data": {
      "text/plain": [
       "array([[-2. ,  1. ],\n",
       "       [ 1.5, -0.5]])"
      ]
     },
     "execution_count": 180,
     "metadata": {},
     "output_type": "execute_result"
    }
   ],
   "source": [
    "A = np.array([[1,2], [3,4]])\n",
    "A_inv =  np.linalg.inv(A)\n",
    "A_inv"
   ]
  },
  {
   "cell_type": "code",
   "execution_count": 184,
   "id": "45a51c11-cd3a-468f-9440-324cc408b856",
   "metadata": {},
   "outputs": [
    {
     "name": "stdout",
     "output_type": "stream",
     "text": [
      "eigenvalues: [1.5+0.8660254j 1.5-0.8660254j]\n",
      "eigenvectors: [[0.35355339+0.61237244j 0.35355339-0.61237244j]\n",
      " [0.70710678+0.j         0.70710678-0.j        ]]\n"
     ]
    }
   ],
   "source": [
    "A = np.array([[2, -1], [1, 1]])\n",
    "eigenvalues, eigenvectors = np.linalg.eig(A)\n",
    "print(\"eigenvalues:\",eigenvalues)\n",
    "print(\"eigenvectors:\",eigenvectors)"
   ]
  },
  {
   "cell_type": "code",
   "execution_count": 186,
   "id": "974835ac-5afa-4970-89f1-27eef36d34f4",
   "metadata": {},
   "outputs": [],
   "source": [
    "A = np.array([[1, 2], [3, 4], [5, 6]])"
   ]
  },
  {
   "cell_type": "code",
   "execution_count": 188,
   "id": "d733457e-5187-4b56-be49-18a43a5c76bf",
   "metadata": {},
   "outputs": [
    {
     "data": {
      "text/plain": [
       "array([[-0.2298477 ,  0.88346102,  0.40824829],\n",
       "       [-0.52474482,  0.24078249, -0.81649658],\n",
       "       [-0.81964194, -0.40189603,  0.40824829]])"
      ]
     },
     "execution_count": 188,
     "metadata": {},
     "output_type": "execute_result"
    }
   ],
   "source": [
    "U, S, VT = np.linalg.svd(A)\n",
    "U"
   ]
  },
  {
   "cell_type": "code",
   "execution_count": 190,
   "id": "b4cd04a9-61c7-4fb9-9f27-a34c09cabccb",
   "metadata": {},
   "outputs": [
    {
     "data": {
      "text/plain": [
       "array([9.52551809, 0.51430058])"
      ]
     },
     "execution_count": 190,
     "metadata": {},
     "output_type": "execute_result"
    }
   ],
   "source": [
    "S"
   ]
  },
  {
   "cell_type": "code",
   "execution_count": 192,
   "id": "a96f6750-0468-4b57-9bbe-4363d472d18b",
   "metadata": {},
   "outputs": [
    {
     "data": {
      "text/plain": [
       "array([[-0.61962948, -0.78489445],\n",
       "       [-0.78489445,  0.61962948]])"
      ]
     },
     "execution_count": 192,
     "metadata": {},
     "output_type": "execute_result"
    }
   ],
   "source": [
    "VT"
   ]
  },
  {
   "cell_type": "markdown",
   "id": "52cd6c2f-9027-4c2e-acc8-6cde07957ce4",
   "metadata": {},
   "source": [
    "Solve Linear Equations"
   ]
  },
  {
   "cell_type": "code",
   "execution_count": 198,
   "id": "7d29095b-f634-4207-a916-5e342035ab4e",
   "metadata": {},
   "outputs": [
    {
     "data": {
      "text/plain": [
       "array([-4.5,  5. ])"
      ]
     },
     "execution_count": 198,
     "metadata": {},
     "output_type": "execute_result"
    }
   ],
   "source": [
    "A = np.array([[2, 3], [4, 5]])\n",
    "B = np.array([6, 7])\n",
    "\n",
    "#Ax = B for x\n",
    "\n",
    "x = np.linalg.solve(A, B)\n",
    "x"
   ]
  },
  {
   "cell_type": "markdown",
   "id": "fa2be5e6-b8c3-4d92-97b6-c3893a341d89",
   "metadata": {},
   "source": [
    "## *8-Advanced Numpy Techniques*"
   ]
  },
  {
   "cell_type": "markdown",
   "id": "70fdabc3-ae49-4213-86a9-96ff8144031c",
   "metadata": {},
   "source": [
    "Masked Array"
   ]
  },
  {
   "cell_type": "code",
   "execution_count": 209,
   "id": "d5542981-78ad-42b4-abeb-a00840618cf3",
   "metadata": {},
   "outputs": [
    {
     "name": "stdout",
     "output_type": "stream",
     "text": [
      "Mean Temperature (without handling missing values): -316.14444444444445\n",
      "Mean Temperature (excluding missing values): 25.28333333333333\n"
     ]
    }
   ],
   "source": [
    "import numpy.ma as ma\n",
    "# Temperature dataset with missing values (-999 represents missing values)\n",
    "temperatures = np.array([22.5, 23.0, -999, 24.5, -999, 26.0, 27.2, -999, 28.5])\n",
    "mean_temperature = np.mean(temperatures)\n",
    "print(\"Mean Temperature (without handling missing values):\", mean_temperature)\n",
    "\n",
    "# Create a mask for missing values (-999)\n",
    "mask = (temperatures == -999)\n",
    "\n",
    "# Create a masked array\n",
    "masked_temperatures = ma.masked_array(temperatures, mask=mask)\n",
    "# Calculate the mean temperature (excluding missing values)\n",
    "mean_temperature = ma.mean(masked_temperatures)\n",
    "# Print the result = 25.28\n",
    "print(\"Mean Temperature (excluding missing values):\", mean_temperature)"
   ]
  },
  {
   "cell_type": "markdown",
   "id": "1ff904ca-a73f-477a-878a-bf90b0c3ec3e",
   "metadata": {},
   "source": [
    "Structured Arrays\r"
   ]
  },
  {
   "cell_type": "code",
   "execution_count": 213,
   "id": "decb0034-c41c-4de1-8d9c-4ea722810892",
   "metadata": {},
   "outputs": [
    {
     "name": "stdout",
     "output_type": "stream",
     "text": [
      "b'Alice'\n",
      "[30 25]\n"
     ]
    }
   ],
   "source": [
    "#Define data types for fields\n",
    "dt = np.dtype([('name', 'S20'), ('age', int), ('salary', float)])\n",
    "# Create a structured array\n",
    "employees = np.array([('Alice', 30, 50000.0), ('Bob', 25, 60000.0)], dtype=dt)\n",
    "# Access the 'name' field of the first employee\n",
    "print(employees['name'][0])\n",
    "# Access the 'age' field of all employees\n",
    "print(employees['age'])"
   ]
  }
 ],
 "metadata": {
  "kernelspec": {
   "display_name": "Python 3 (ipykernel)",
   "language": "python",
   "name": "python3"
  },
  "language_info": {
   "codemirror_mode": {
    "name": "ipython",
    "version": 3
   },
   "file_extension": ".py",
   "mimetype": "text/x-python",
   "name": "python",
   "nbconvert_exporter": "python",
   "pygments_lexer": "ipython3",
   "version": "3.11.7"
  }
 },
 "nbformat": 4,
 "nbformat_minor": 5
}

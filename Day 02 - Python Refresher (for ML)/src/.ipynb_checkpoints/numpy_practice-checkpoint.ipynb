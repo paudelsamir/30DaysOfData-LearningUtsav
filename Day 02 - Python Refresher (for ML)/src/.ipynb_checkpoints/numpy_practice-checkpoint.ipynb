{
 "cells": [
  {
   "cell_type": "code",
   "execution_count": 5,
   "id": "93c71e1a-b268-4a3d-ac89-9d088d0cd87b",
   "metadata": {},
   "outputs": [
    {
     "data": {
      "text/html": [
       "<div>\n",
       "<style scoped>\n",
       "    .dataframe tbody tr th:only-of-type {\n",
       "        vertical-align: middle;\n",
       "    }\n",
       "\n",
       "    .dataframe tbody tr th {\n",
       "        vertical-align: top;\n",
       "    }\n",
       "\n",
       "    .dataframe thead th {\n",
       "        text-align: right;\n",
       "    }\n",
       "</style>\n",
       "<table border=\"1\" class=\"dataframe\">\n",
       "  <thead>\n",
       "    <tr style=\"text-align: right;\">\n",
       "      <th></th>\n",
       "      <th>name</th>\n",
       "      <th>full_name</th>\n",
       "      <th>birth_date</th>\n",
       "      <th>age</th>\n",
       "      <th>height_cm</th>\n",
       "      <th>weight_kgs</th>\n",
       "      <th>positions</th>\n",
       "      <th>nationality</th>\n",
       "      <th>overall_rating</th>\n",
       "      <th>potential</th>\n",
       "      <th>...</th>\n",
       "      <th>long_shots</th>\n",
       "      <th>aggression</th>\n",
       "      <th>interceptions</th>\n",
       "      <th>positioning</th>\n",
       "      <th>vision</th>\n",
       "      <th>penalties</th>\n",
       "      <th>composure</th>\n",
       "      <th>marking</th>\n",
       "      <th>standing_tackle</th>\n",
       "      <th>sliding_tackle</th>\n",
       "    </tr>\n",
       "  </thead>\n",
       "  <tbody>\n",
       "    <tr>\n",
       "      <th>0</th>\n",
       "      <td>L. Messi</td>\n",
       "      <td>Lionel Andrés Messi Cuccittini</td>\n",
       "      <td>6/24/1987</td>\n",
       "      <td>31</td>\n",
       "      <td>170.18</td>\n",
       "      <td>72.1</td>\n",
       "      <td>CF,RW,ST</td>\n",
       "      <td>Argentina</td>\n",
       "      <td>94</td>\n",
       "      <td>94</td>\n",
       "      <td>...</td>\n",
       "      <td>94</td>\n",
       "      <td>48</td>\n",
       "      <td>22</td>\n",
       "      <td>94</td>\n",
       "      <td>94</td>\n",
       "      <td>75</td>\n",
       "      <td>96</td>\n",
       "      <td>33</td>\n",
       "      <td>28</td>\n",
       "      <td>26</td>\n",
       "    </tr>\n",
       "    <tr>\n",
       "      <th>1</th>\n",
       "      <td>C. Eriksen</td>\n",
       "      <td>Christian  Dannemann Eriksen</td>\n",
       "      <td>2/14/1992</td>\n",
       "      <td>27</td>\n",
       "      <td>154.94</td>\n",
       "      <td>76.2</td>\n",
       "      <td>CAM,RM,CM</td>\n",
       "      <td>Denmark</td>\n",
       "      <td>88</td>\n",
       "      <td>89</td>\n",
       "      <td>...</td>\n",
       "      <td>89</td>\n",
       "      <td>46</td>\n",
       "      <td>56</td>\n",
       "      <td>84</td>\n",
       "      <td>91</td>\n",
       "      <td>67</td>\n",
       "      <td>88</td>\n",
       "      <td>59</td>\n",
       "      <td>57</td>\n",
       "      <td>22</td>\n",
       "    </tr>\n",
       "    <tr>\n",
       "      <th>2</th>\n",
       "      <td>P. Pogba</td>\n",
       "      <td>Paul Pogba</td>\n",
       "      <td>3/15/1993</td>\n",
       "      <td>25</td>\n",
       "      <td>190.50</td>\n",
       "      <td>83.9</td>\n",
       "      <td>CM,CAM</td>\n",
       "      <td>France</td>\n",
       "      <td>88</td>\n",
       "      <td>91</td>\n",
       "      <td>...</td>\n",
       "      <td>82</td>\n",
       "      <td>78</td>\n",
       "      <td>64</td>\n",
       "      <td>82</td>\n",
       "      <td>88</td>\n",
       "      <td>82</td>\n",
       "      <td>87</td>\n",
       "      <td>63</td>\n",
       "      <td>67</td>\n",
       "      <td>67</td>\n",
       "    </tr>\n",
       "    <tr>\n",
       "      <th>3</th>\n",
       "      <td>L. Insigne</td>\n",
       "      <td>Lorenzo Insigne</td>\n",
       "      <td>6/4/1991</td>\n",
       "      <td>27</td>\n",
       "      <td>162.56</td>\n",
       "      <td>59.0</td>\n",
       "      <td>LW,ST</td>\n",
       "      <td>Italy</td>\n",
       "      <td>88</td>\n",
       "      <td>88</td>\n",
       "      <td>...</td>\n",
       "      <td>84</td>\n",
       "      <td>34</td>\n",
       "      <td>26</td>\n",
       "      <td>83</td>\n",
       "      <td>87</td>\n",
       "      <td>61</td>\n",
       "      <td>83</td>\n",
       "      <td>51</td>\n",
       "      <td>24</td>\n",
       "      <td>22</td>\n",
       "    </tr>\n",
       "    <tr>\n",
       "      <th>4</th>\n",
       "      <td>K. Koulibaly</td>\n",
       "      <td>Kalidou Koulibaly</td>\n",
       "      <td>6/20/1991</td>\n",
       "      <td>27</td>\n",
       "      <td>187.96</td>\n",
       "      <td>88.9</td>\n",
       "      <td>CB</td>\n",
       "      <td>Senegal</td>\n",
       "      <td>88</td>\n",
       "      <td>91</td>\n",
       "      <td>...</td>\n",
       "      <td>15</td>\n",
       "      <td>87</td>\n",
       "      <td>88</td>\n",
       "      <td>24</td>\n",
       "      <td>49</td>\n",
       "      <td>33</td>\n",
       "      <td>80</td>\n",
       "      <td>91</td>\n",
       "      <td>88</td>\n",
       "      <td>87</td>\n",
       "    </tr>\n",
       "    <tr>\n",
       "      <th>...</th>\n",
       "      <td>...</td>\n",
       "      <td>...</td>\n",
       "      <td>...</td>\n",
       "      <td>...</td>\n",
       "      <td>...</td>\n",
       "      <td>...</td>\n",
       "      <td>...</td>\n",
       "      <td>...</td>\n",
       "      <td>...</td>\n",
       "      <td>...</td>\n",
       "      <td>...</td>\n",
       "      <td>...</td>\n",
       "      <td>...</td>\n",
       "      <td>...</td>\n",
       "      <td>...</td>\n",
       "      <td>...</td>\n",
       "      <td>...</td>\n",
       "      <td>...</td>\n",
       "      <td>...</td>\n",
       "      <td>...</td>\n",
       "      <td>...</td>\n",
       "    </tr>\n",
       "    <tr>\n",
       "      <th>17949</th>\n",
       "      <td>R. McKenzie</td>\n",
       "      <td>Rory  McKenzie</td>\n",
       "      <td>10/7/1993</td>\n",
       "      <td>25</td>\n",
       "      <td>175.26</td>\n",
       "      <td>74.8</td>\n",
       "      <td>RM,CAM,CM</td>\n",
       "      <td>Scotland</td>\n",
       "      <td>67</td>\n",
       "      <td>70</td>\n",
       "      <td>...</td>\n",
       "      <td>54</td>\n",
       "      <td>69</td>\n",
       "      <td>41</td>\n",
       "      <td>60</td>\n",
       "      <td>64</td>\n",
       "      <td>63</td>\n",
       "      <td>56</td>\n",
       "      <td>40</td>\n",
       "      <td>20</td>\n",
       "      <td>18</td>\n",
       "    </tr>\n",
       "    <tr>\n",
       "      <th>17950</th>\n",
       "      <td>M. Sipľak</td>\n",
       "      <td>Michal Sipľak</td>\n",
       "      <td>2/2/1996</td>\n",
       "      <td>23</td>\n",
       "      <td>182.88</td>\n",
       "      <td>79.8</td>\n",
       "      <td>LB</td>\n",
       "      <td>Slovakia</td>\n",
       "      <td>59</td>\n",
       "      <td>67</td>\n",
       "      <td>...</td>\n",
       "      <td>22</td>\n",
       "      <td>62</td>\n",
       "      <td>55</td>\n",
       "      <td>42</td>\n",
       "      <td>39</td>\n",
       "      <td>32</td>\n",
       "      <td>52</td>\n",
       "      <td>53</td>\n",
       "      <td>64</td>\n",
       "      <td>60</td>\n",
       "    </tr>\n",
       "    <tr>\n",
       "      <th>17951</th>\n",
       "      <td>J. Bekkema</td>\n",
       "      <td>Jan Bekkema</td>\n",
       "      <td>4/9/1996</td>\n",
       "      <td>22</td>\n",
       "      <td>185.42</td>\n",
       "      <td>89.8</td>\n",
       "      <td>GK</td>\n",
       "      <td>Netherlands</td>\n",
       "      <td>59</td>\n",
       "      <td>67</td>\n",
       "      <td>...</td>\n",
       "      <td>9</td>\n",
       "      <td>27</td>\n",
       "      <td>10</td>\n",
       "      <td>5</td>\n",
       "      <td>25</td>\n",
       "      <td>16</td>\n",
       "      <td>47</td>\n",
       "      <td>9</td>\n",
       "      <td>12</td>\n",
       "      <td>13</td>\n",
       "    </tr>\n",
       "    <tr>\n",
       "      <th>17952</th>\n",
       "      <td>A. Al Yami</td>\n",
       "      <td>Abdulrahman Al Yami</td>\n",
       "      <td>6/19/1997</td>\n",
       "      <td>21</td>\n",
       "      <td>175.26</td>\n",
       "      <td>64.9</td>\n",
       "      <td>ST,LM</td>\n",
       "      <td>Saudi Arabia</td>\n",
       "      <td>59</td>\n",
       "      <td>71</td>\n",
       "      <td>...</td>\n",
       "      <td>58</td>\n",
       "      <td>38</td>\n",
       "      <td>15</td>\n",
       "      <td>54</td>\n",
       "      <td>52</td>\n",
       "      <td>50</td>\n",
       "      <td>53</td>\n",
       "      <td>16</td>\n",
       "      <td>18</td>\n",
       "      <td>17</td>\n",
       "    </tr>\n",
       "    <tr>\n",
       "      <th>17953</th>\n",
       "      <td>Júnior Brumado</td>\n",
       "      <td>José Francisco dos Santos Júnior</td>\n",
       "      <td>5/15/1999</td>\n",
       "      <td>19</td>\n",
       "      <td>190.50</td>\n",
       "      <td>79.8</td>\n",
       "      <td>ST</td>\n",
       "      <td>Brazil</td>\n",
       "      <td>59</td>\n",
       "      <td>75</td>\n",
       "      <td>...</td>\n",
       "      <td>53</td>\n",
       "      <td>67</td>\n",
       "      <td>20</td>\n",
       "      <td>53</td>\n",
       "      <td>49</td>\n",
       "      <td>52</td>\n",
       "      <td>45</td>\n",
       "      <td>23</td>\n",
       "      <td>31</td>\n",
       "      <td>21</td>\n",
       "    </tr>\n",
       "  </tbody>\n",
       "</table>\n",
       "<p>17954 rows × 51 columns</p>\n",
       "</div>"
      ],
      "text/plain": [
       "                 name                         full_name birth_date  age  \\\n",
       "0            L. Messi    Lionel Andrés Messi Cuccittini  6/24/1987   31   \n",
       "1          C. Eriksen      Christian  Dannemann Eriksen  2/14/1992   27   \n",
       "2            P. Pogba                        Paul Pogba  3/15/1993   25   \n",
       "3          L. Insigne                   Lorenzo Insigne   6/4/1991   27   \n",
       "4        K. Koulibaly                 Kalidou Koulibaly  6/20/1991   27   \n",
       "...               ...                               ...        ...  ...   \n",
       "17949     R. McKenzie                    Rory  McKenzie  10/7/1993   25   \n",
       "17950       M. Sipľak                     Michal Sipľak   2/2/1996   23   \n",
       "17951      J. Bekkema                       Jan Bekkema   4/9/1996   22   \n",
       "17952      A. Al Yami               Abdulrahman Al Yami  6/19/1997   21   \n",
       "17953  Júnior Brumado  José Francisco dos Santos Júnior  5/15/1999   19   \n",
       "\n",
       "       height_cm  weight_kgs  positions   nationality  overall_rating  \\\n",
       "0         170.18        72.1   CF,RW,ST     Argentina              94   \n",
       "1         154.94        76.2  CAM,RM,CM       Denmark              88   \n",
       "2         190.50        83.9     CM,CAM        France              88   \n",
       "3         162.56        59.0      LW,ST         Italy              88   \n",
       "4         187.96        88.9         CB       Senegal              88   \n",
       "...          ...         ...        ...           ...             ...   \n",
       "17949     175.26        74.8  RM,CAM,CM      Scotland              67   \n",
       "17950     182.88        79.8         LB      Slovakia              59   \n",
       "17951     185.42        89.8         GK   Netherlands              59   \n",
       "17952     175.26        64.9      ST,LM  Saudi Arabia              59   \n",
       "17953     190.50        79.8         ST        Brazil              59   \n",
       "\n",
       "       potential  ...  long_shots  aggression interceptions  positioning  \\\n",
       "0             94  ...          94          48            22           94   \n",
       "1             89  ...          89          46            56           84   \n",
       "2             91  ...          82          78            64           82   \n",
       "3             88  ...          84          34            26           83   \n",
       "4             91  ...          15          87            88           24   \n",
       "...          ...  ...         ...         ...           ...          ...   \n",
       "17949         70  ...          54          69            41           60   \n",
       "17950         67  ...          22          62            55           42   \n",
       "17951         67  ...           9          27            10            5   \n",
       "17952         71  ...          58          38            15           54   \n",
       "17953         75  ...          53          67            20           53   \n",
       "\n",
       "       vision  penalties composure  marking standing_tackle  sliding_tackle  \n",
       "0          94         75        96       33              28              26  \n",
       "1          91         67        88       59              57              22  \n",
       "2          88         82        87       63              67              67  \n",
       "3          87         61        83       51              24              22  \n",
       "4          49         33        80       91              88              87  \n",
       "...       ...        ...       ...      ...             ...             ...  \n",
       "17949      64         63        56       40              20              18  \n",
       "17950      39         32        52       53              64              60  \n",
       "17951      25         16        47        9              12              13  \n",
       "17952      52         50        53       16              18              17  \n",
       "17953      49         52        45       23              31              21  \n",
       "\n",
       "[17954 rows x 51 columns]"
      ]
     },
     "execution_count": 5,
     "metadata": {},
     "output_type": "execute_result"
    }
   ],
   "source": [
    "import numpy as np\n",
    "import pandas as pd\n",
    "df = pd.read_csv('fifa_players.csv')\n",
    "df"
   ]
  },
  {
   "cell_type": "code",
   "execution_count": 21,
   "id": "a704d997-d7f5-4c58-9fb2-344b2d2632bc",
   "metadata": {},
   "outputs": [],
   "source": [
    "age_array = df['age'].values\n",
    "rating_array = df['overall_rating'].values"
   ]
  },
  {
   "cell_type": "code",
   "execution_count": 30,
   "id": "74cb9984-acd7-4433-8335-7aa190bcdfc1",
   "metadata": {},
   "outputs": [
    {
     "data": {
      "text/plain": [
       "array([31, 27, 25, ..., 22, 21, 19], dtype=int64)"
      ]
     },
     "execution_count": 30,
     "metadata": {},
     "output_type": "execute_result"
    }
   ],
   "source": [
    " age_array"
   ]
  },
  {
   "cell_type": "code",
   "execution_count": 40,
   "id": "80db9c67-4602-4ae9-ac91-ce15bb88643b",
   "metadata": {},
   "outputs": [
    {
     "data": {
      "text/plain": [
       "array([32, 28, 26, ..., 23, 22, 20], dtype=int64)"
      ]
     },
     "execution_count": 40,
     "metadata": {},
     "output_type": "execute_result"
    }
   ],
   "source": [
    "age_plus_one = age_array + 1\n",
    "total_rating = np.sum(rating_array)\n",
    "age_plus_one"
   ]
  },
  {
   "cell_type": "code",
   "execution_count": 42,
   "id": "43189701-1b51-4ad8-bba9-f429661f9f25",
   "metadata": {},
   "outputs": [],
   "source": [
    "mean_age = np.mean(age_array)\n",
    "median_age = np.median(age_array)\n"
   ]
  },
  {
   "cell_type": "code",
   "execution_count": 44,
   "id": "0690b5f3-ac9a-4bbd-a2f9-896cf4699e9a",
   "metadata": {},
   "outputs": [
    {
     "data": {
      "text/plain": [
       "25.56544502617801"
      ]
     },
     "execution_count": 44,
     "metadata": {},
     "output_type": "execute_result"
    }
   ],
   "source": [
    "mean_age"
   ]
  },
  {
   "cell_type": "code",
   "execution_count": 46,
   "id": "f46e8200-2fe0-495f-8333-4d9f8b4aff26",
   "metadata": {},
   "outputs": [
    {
     "data": {
      "text/plain": [
       "25.0"
      ]
     },
     "execution_count": 46,
     "metadata": {},
     "output_type": "execute_result"
    }
   ],
   "source": [
    "median_age"
   ]
  },
  {
   "cell_type": "code",
   "execution_count": 48,
   "id": "43feb849-8189-4ac7-a3be-6711487663b9",
   "metadata": {},
   "outputs": [
    {
     "data": {
      "text/plain": [
       "6.963535852078024"
      ]
     },
     "execution_count": 48,
     "metadata": {},
     "output_type": "execute_result"
    }
   ],
   "source": [
    "std_rating = np.std(rating_array)\n",
    "std_rating"
   ]
  },
  {
   "cell_type": "code",
   "execution_count": 52,
   "id": "3bad4873-4349-4307-9e20-0af0729a9989",
   "metadata": {},
   "outputs": [
    {
     "data": {
      "text/plain": [
       "array([False, False, False, ..., False, False, False])"
      ]
     },
     "execution_count": 52,
     "metadata": {},
     "output_type": "execute_result"
    }
   ],
   "source": [
    "high_rating = rating_array > 100\n",
    "high_rating"
   ]
  },
  {
   "cell_type": "code",
   "execution_count": 54,
   "id": "2bd69127-4c61-4e9b-8111-c1107dc0c5a9",
   "metadata": {},
   "outputs": [
    {
     "data": {
      "text/plain": [
       "array([], dtype=int64)"
      ]
     },
     "execution_count": 54,
     "metadata": {},
     "output_type": "execute_result"
    }
   ],
   "source": [
    "high_rating_ages = age_array[high_rating]\n",
    "high_rating_ages"
   ]
  },
  {
   "cell_type": "code",
   "execution_count": 56,
   "id": "65db323f-2a31-42c7-a67f-16d67b71e6e8",
   "metadata": {},
   "outputs": [],
   "source": [
    "sequence_array = np.arange(0, 10, 2)\n",
    "age_spaced = np.linspace(age_array.min(), age_array.max(), 5)\n"
   ]
  },
  {
   "cell_type": "code",
   "execution_count": 58,
   "id": "453b615b-5cd1-49f0-9d94-9a7c09e85dc3",
   "metadata": {},
   "outputs": [
    {
     "data": {
      "text/plain": [
       "array([0, 2, 4, 6, 8])"
      ]
     },
     "execution_count": 58,
     "metadata": {},
     "output_type": "execute_result"
    }
   ],
   "source": [
    "sequence_array"
   ]
  },
  {
   "cell_type": "code",
   "execution_count": 60,
   "id": "5253d900-6c6d-4295-bb34-d643ee780a91",
   "metadata": {},
   "outputs": [
    {
     "data": {
      "text/plain": [
       "array([17.  , 24.25, 31.5 , 38.75, 46.  ])"
      ]
     },
     "execution_count": 60,
     "metadata": {},
     "output_type": "execute_result"
    }
   ],
   "source": [
    "age_spaced"
   ]
  },
  {
   "cell_type": "code",
   "execution_count": 62,
   "id": "21d8984d-2f1e-4358-9a6c-11bc1c1bf8eb",
   "metadata": {},
   "outputs": [
    {
     "data": {
      "text/plain": [
       "array([[31, 27],\n",
       "       [25, 27],\n",
       "       [27, 27],\n",
       "       ...,\n",
       "       [27, 25],\n",
       "       [23, 22],\n",
       "       [21, 19]], dtype=int64)"
      ]
     },
     "execution_count": 62,
     "metadata": {},
     "output_type": "execute_result"
    }
   ],
   "source": [
    "reshaped_age = age_array.reshape(-1, 2)\n",
    "reshaped_age"
   ]
  },
  {
   "cell_type": "code",
   "execution_count": 64,
   "id": "f028433a-9abf-4871-99d5-e48d05131412",
   "metadata": {},
   "outputs": [],
   "source": [
    "exp_ratings = np.exp(rating_array)\n",
    "log_ages = np.log(age_array)\n"
   ]
  },
  {
   "cell_type": "code",
   "execution_count": 68,
   "id": "f18b4af9-94ac-466f-b87f-238f9ea0644e",
   "metadata": {},
   "outputs": [
    {
     "data": {
      "text/plain": [
       "array([3.4339872 , 3.29583687, 3.21887582, ..., 3.09104245, 3.04452244,\n",
       "       2.94443898])"
      ]
     },
     "execution_count": 68,
     "metadata": {},
     "output_type": "execute_result"
    }
   ],
   "source": [
    "log_ages"
   ]
  },
  {
   "cell_type": "code",
   "execution_count": 70,
   "id": "abaf7dc1-2902-4d47-ba5a-ca0bcde350e9",
   "metadata": {},
   "outputs": [
    {
     "data": {
      "text/plain": [
       "array([6.66317622e+40, 1.65163625e+38, 1.65163625e+38, ...,\n",
       "       4.20121040e+25, 4.20121040e+25, 4.20121040e+25])"
      ]
     },
     "execution_count": 70,
     "metadata": {},
     "output_type": "execute_result"
    }
   ],
   "source": [
    "exp_ratings"
   ]
  },
  {
   "cell_type": "code",
   "execution_count": 72,
   "id": "64374526-29f5-467d-89b7-daaa1655f582",
   "metadata": {},
   "outputs": [
    {
     "data": {
      "text/plain": [
       "array([18, 20, 29, 30, 35, 19, 24, 28, 29, 30])"
      ]
     },
     "execution_count": 72,
     "metadata": {},
     "output_type": "execute_result"
    }
   ],
   "source": [
    "random_ages = np.random.randint(18, 40, 10)\n",
    "random_ages"
   ]
  },
  {
   "cell_type": "code",
   "execution_count": 74,
   "id": "ea560fb8-0117-4dae-bc88-96bd9abc5d9d",
   "metadata": {},
   "outputs": [
    {
     "data": {
      "text/plain": [
       "array([ 1.78399826, -0.33851039,  1.37250193, -0.97278059,  1.545561  ])"
      ]
     },
     "execution_count": 74,
     "metadata": {},
     "output_type": "execute_result"
    }
   ],
   "source": [
    "random_normal = np.random.normal(0, 1, 5)\n",
    "random_normal"
   ]
  },
  {
   "cell_type": "code",
   "execution_count": 76,
   "id": "fe1982f0-7464-455b-aae8-e38dc564abb8",
   "metadata": {},
   "outputs": [],
   "source": [
    "max_rating = np.max(rating_array)\n",
    "min_rating = np.min(rating_array)\n",
    "index_max_age = np.argmax(age_array)"
   ]
  },
  {
   "cell_type": "code",
   "execution_count": 78,
   "id": "a31bdd78-3a9a-4e24-a81d-b4d614e5e97f",
   "metadata": {},
   "outputs": [
    {
     "data": {
      "text/plain": [
       "94"
      ]
     },
     "execution_count": 78,
     "metadata": {},
     "output_type": "execute_result"
    }
   ],
   "source": [
    "max_rating"
   ]
  },
  {
   "cell_type": "code",
   "execution_count": 80,
   "id": "97654a50-1665-4881-8b95-ab12a657dfc7",
   "metadata": {},
   "outputs": [
    {
     "data": {
      "text/plain": [
       "47"
      ]
     },
     "execution_count": 80,
     "metadata": {},
     "output_type": "execute_result"
    }
   ],
   "source": [
    "min_rating"
   ]
  },
  {
   "cell_type": "code",
   "execution_count": 82,
   "id": "93f34d55-ca9d-4cb6-aae5-d9f0290928e1",
   "metadata": {},
   "outputs": [
    {
     "data": {
      "text/plain": [
       "1304"
      ]
     },
     "execution_count": 82,
     "metadata": {},
     "output_type": "execute_result"
    }
   ],
   "source": [
    "index_max_age"
   ]
  },
  {
   "cell_type": "code",
   "execution_count": 84,
   "id": "82c409b9-cda8-4dfc-a475-5667c13b8452",
   "metadata": {},
   "outputs": [],
   "source": [
    "# Stack age and rating arrays vertically and horizontally\n",
    "stacked_vertically = np.vstack((age_array, rating_array))\n",
    "stacked_horizontally = np.hstack((age_array.reshape(-1, 1), rating_array.reshape(-1, 1)))\n",
    "\n",
    "# Concatenate two arrays along a specific axis\n",
    "concatenated_array = np.concatenate((age_array, rating_array), axis=0)\n"
   ]
  },
  {
   "cell_type": "code",
   "execution_count": 86,
   "id": "6e6b207a-1e31-4360-b014-8b8ca7512be0",
   "metadata": {},
   "outputs": [
    {
     "data": {
      "text/plain": [
       "array([[31, 27, 25, ..., 22, 21, 19],\n",
       "       [94, 88, 88, ..., 59, 59, 59]], dtype=int64)"
      ]
     },
     "execution_count": 86,
     "metadata": {},
     "output_type": "execute_result"
    }
   ],
   "source": [
    "stacked_vertically"
   ]
  },
  {
   "cell_type": "code",
   "execution_count": 88,
   "id": "bd9058c1-5943-4b74-a9a3-39c4f1288fa5",
   "metadata": {},
   "outputs": [
    {
     "data": {
      "text/plain": [
       "array([[31, 94],\n",
       "       [27, 88],\n",
       "       [25, 88],\n",
       "       ...,\n",
       "       [22, 59],\n",
       "       [21, 59],\n",
       "       [19, 59]], dtype=int64)"
      ]
     },
     "execution_count": 88,
     "metadata": {},
     "output_type": "execute_result"
    }
   ],
   "source": [
    "stacked_horizontally"
   ]
  },
  {
   "cell_type": "code",
   "execution_count": 92,
   "id": "284ab7cc-069e-402b-b23a-3f55af6048fa",
   "metadata": {},
   "outputs": [
    {
     "data": {
      "text/plain": [
       "array([31, 27, 25, ..., 59, 59, 59], dtype=int64)"
      ]
     },
     "execution_count": 92,
     "metadata": {},
     "output_type": "execute_result"
    }
   ],
   "source": [
    "concatenated_array"
   ]
  },
  {
   "cell_type": "code",
   "execution_count": 94,
   "id": "a4fd0c5d-05ec-42c1-b781-dab91de2de6d",
   "metadata": {},
   "outputs": [],
   "source": [
    "ratings_over_25 = rating_array[age_array > 25]\n"
   ]
  },
  {
   "cell_type": "code",
   "execution_count": 96,
   "id": "6ee755d4-4b33-4b35-a227-7aba9131f267",
   "metadata": {},
   "outputs": [
    {
     "data": {
      "text/plain": [
       "array([94, 88, 88, ..., 67, 67, 67], dtype=int64)"
      ]
     },
     "execution_count": 96,
     "metadata": {},
     "output_type": "execute_result"
    }
   ],
   "source": [
    "ratings_over_25"
   ]
  },
  {
   "cell_type": "code",
   "execution_count": null,
   "id": "a6d915d6-7ca6-4420-b001-7077d7fadc97",
   "metadata": {},
   "outputs": [],
   "source": []
  }
 ],
 "metadata": {
  "kernelspec": {
   "display_name": "Python 3 (ipykernel)",
   "language": "python",
   "name": "python3"
  },
  "language_info": {
   "codemirror_mode": {
    "name": "ipython",
    "version": 3
   },
   "file_extension": ".py",
   "mimetype": "text/x-python",
   "name": "python",
   "nbconvert_exporter": "python",
   "pygments_lexer": "ipython3",
   "version": "3.11.7"
  }
 },
 "nbformat": 4,
 "nbformat_minor": 5
}

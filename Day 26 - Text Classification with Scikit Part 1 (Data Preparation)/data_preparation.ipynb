{
 "cells": [
  {
   "cell_type": "markdown",
   "metadata": {},
   "source": [
    "#### Data Class"
   ]
  },
  {
   "cell_type": "code",
   "execution_count": null,
   "metadata": {},
   "outputs": [],
   "source": [
    "import random\n",
    "\n",
    "class Sentiment:\n",
    "    NEGATIVE = \"NEGATIVE\"\n",
    "    NEUTRAL = \"NEUTRAL\"\n",
    "    POSITIVE = \"POSITIVE\"\n",
    "\n",
    "class Review:\n",
    "    def __init__(self, text, score):\n",
    "        self.text = text\n",
    "        self.score = score\n",
    "        self.sentiment = self.get_sentiment()\n",
    "        \n",
    "    def get_sentiment(self):\n",
    "        if self.score <= 2:\n",
    "            return Sentiment.NEGATIVE\n",
    "        elif self.score == 3:\n",
    "            return Sentiment.NEUTRAL\n",
    "        else: #Score of 4 or 5\n",
    "            return Sentiment.POSITIVE\n",
    "\n",
    "class ReviewContainer:\n",
    "    def __init__(self, reviews): \n",
    "        self.reviews = reviews\n",
    "        \n",
    "    def get_text(self):# Return the text of the reviews\n",
    "        return [x.text for x in self.reviews]\n",
    "    \n",
    "    def get_sentiment(self): #Return the sentiment of the reviews\n",
    "        return [x.sentiment for x in self.reviews]\n",
    "        \n",
    "    def evenly_distribute(self): #Balancee the number of positive and negative reviews\n",
    "        negative = list(filter(lambda x: x.sentiment == Sentiment.NEGATIVE, self.reviews))\n",
    "        positive = list(filter(lambda x: x.sentiment == Sentiment.POSITIVE, self.reviews))\n",
    "        positive_shrunk = positive[:len(negative)]\n",
    "        self.reviews = negative + positive_shrunk\n",
    "        random.shuffle(self.reviews)"
   ]
  },
  {
   "cell_type": "markdown",
   "metadata": {},
   "source": [
    "#### Load Data"
   ]
  },
  {
   "cell_type": "code",
   "execution_count": null,
   "metadata": {},
   "outputs": [
    {
     "data": {
      "text/plain": [
       "'I hoped for Mia to have some peace in this book, but her story is so real and raw.  Broken World was so touching and emotional because you go from Mia\\'s trauma to her trying to cope.  I love the way the story displays how there is no \"just bouncing back\" from being sexually assaulted.  Mia showed us how those demons come for you every day and how sometimes they best you. I was so in the moment with Broken World and hurt with Mia because she was surrounded by people but so alone and I understood her feelings.  I found myself wishing I could give her some of my courage and strength or even just to be there for her.  Thank you Lizzy for putting a great character\\'s voice on a strong subject and making it so that other peoples story may be heard through Mia\\'s.'"
      ]
     },
     "execution_count": 2,
     "metadata": {},
     "output_type": "execute_result"
    }
   ],
   "source": [
    "import json\n",
    "file_name = './data/books_small_10000.json'\n",
    "\n",
    "reviews = []\n",
    "with open(file_name) as f: #Open the file with read mode\n",
    "    for line in f:\n",
    "        review = json.loads(line)\n",
    "        reviews.append(Review(review['reviewText'], review['overall']))\n",
    "        \n",
    "reviews[5].text"
   ]
  },
  {
   "cell_type": "code",
   "execution_count": 5,
   "metadata": {},
   "outputs": [
    {
     "data": {
      "text/plain": [
       "'POSITIVE'"
      ]
     },
     "execution_count": 5,
     "metadata": {},
     "output_type": "execute_result"
    }
   ],
   "source": [
    "reviews[5].sentiment"
   ]
  },
  {
   "cell_type": "code",
   "execution_count": 6,
   "metadata": {},
   "outputs": [
    {
     "name": "stdout",
     "output_type": "stream",
     "text": [
      "Review 1: I bought both boxed sets, books 1-5.  Really a great series!  Start book 1 three weeks ago and just finished book 5.  Sloane Monroe is a great character and being able to follow her through both private life and her PI life gets a reader very involved!  Although clues may be right in front of the reader, there are twists and turns that keep one guessing until the last page!  These are books you won't be disappointed with.\n",
      "Score: 5.0\n",
      "Sentiment: POSITIVE\n",
      "\n",
      "Review 2: I enjoyed this short book. But it was way way to short ....I can see how easily it would have been to add several chapters.\n",
      "Score: 3.0\n",
      "Sentiment: NEUTRAL\n",
      "\n",
      "Review 3: I love Nicholas Sparks. I&#8217;ve read everything he&#8217;s written and couldn&#8217;t wait for my copy of Safe Haven to arrive.Safe Haven had a different feel than many of Nicholas Sparks books. It was much less sappy than most of his books. Don&#8217;t get me wrong&#8230; I love sappy but this book was much deeper than many of his other books. It explored life in an abusive relationship and the struggle to escape and start over.I felt a connection to the characters and never lost interest in the story. The audio narration was well done. The only thing that annoyed me was the whiny voice the narrator used for 5 year old Kristen. Fortunately she didn&#8217;t have many lines in the book.This book played out in a predictable manner. Although one thing I have learned from reading Nicholas Sparks is that sometimes he is not predictable and he goes for the heart-break ending. This book did have an unpredictable element to the ending but thankfully it was a touching unpredictable and not a heart-breaking unpredictable.Content: Just a couple of swear words. One of the characters in this book is psycho, I mean seriously crazy. We hear his demented crazy thought process and the details of some of the things he does are described. There are scenes of physical abuse described and a few sex scenes that aren&#8217;t overly graphic but are lewd. Although I can&#8217;t classify this book as clean it wasn&#8217;t nearly as graphic as it could have been. It was well written and I would recommend it to adults who have read this content warning.Rating: 4 Stars. I made it through this book in less than 2 days. Some great writing from Nicholas Sparks.Source: I received an audio version of this book from Hachette.\n",
      "Score: 4.0\n",
      "Sentiment: POSITIVE\n",
      "\n",
      "Review 4: I really enjoyed this adventure and look forward to reading more of Robert Spire. I especially liked all the info on global warming. You did a good job on the research.\n",
      "Score: 4.0\n",
      "Sentiment: POSITIVE\n",
      "\n",
      "Review 5: It was a decent read.. typical story line. Nothing unsavory as so many are. Just a slice of life, plausible.\n",
      "Score: 3.0\n",
      "Sentiment: NEUTRAL\n",
      "\n"
     ]
    }
   ],
   "source": [
    "for i in range(5):\n",
    "    print(f\"Review {i+1}: {reviews[i].text}\")\n",
    "    print(f\"Score: {reviews[i].score}\")\n",
    "    print(f\"Sentiment: {reviews[i].sentiment}\")\n",
    "    print()"
   ]
  },
  {
   "cell_type": "markdown",
   "metadata": {},
   "source": [
    "#### Preparation of DAta"
   ]
  },
  {
   "cell_type": "code",
   "execution_count": 14,
   "metadata": {},
   "outputs": [
    {
     "name": "stdout",
     "output_type": "stream",
     "text": [
      "6700\n",
      "3300\n"
     ]
    }
   ],
   "source": [
    "from sklearn.model_selection import train_test_split\n",
    "\n",
    "training, test = train_test_split(reviews, test_size=0.33, random_state=42) #Split the data into training and test data\n",
    "\n",
    "train_container = ReviewContainer(training) #holds training reviews\n",
    "\n",
    "test_container = ReviewContainer(test) #holds test reviews\n",
    "print(len(train_container.reviews))\n",
    "print(len(test_container.reviews))"
   ]
  },
  {
   "cell_type": "code",
   "execution_count": 15,
   "metadata": {},
   "outputs": [
    {
     "name": "stdout",
     "output_type": "stream",
     "text": [
      "Number of Positive Reviews in Training: 436\n",
      "Number of Negative Reviews in Training: 436\n",
      "Number of Positive Reviews in Testing: 208\n",
      "Number of Negative Reviews in Testing: 208\n"
     ]
    }
   ],
   "source": [
    "train_container.evenly_distribute()\n",
    "train_x = train_container.get_text()\n",
    "train_y = train_container.get_sentiment()\n",
    "\n",
    "test_container.evenly_distribute()\n",
    "test_x = test_container.get_text()\n",
    "test_y = test_container.get_sentiment()\n",
    "\n",
    "print(f\"Number of Positive Reviews in Training: {train_y.count(Sentiment.POSITIVE)}\")\n",
    "print(f\"Number of Negative Reviews in Training: {train_y.count(Sentiment.NEGATIVE)}\")\n",
    "print(f\"Number of Positive Reviews in Testing: {test_y.count(Sentiment.POSITIVE)}\")\n",
    "print(f\"Number of Negative Reviews in Testing: {test_y.count(Sentiment.NEGATIVE)}\")"
   ]
  },
  {
   "cell_type": "markdown",
   "metadata": {},
   "source": [
    "train_x: Review texts for training. <br>\n",
    "train_y: Sentiment labels for training. <br>\n",
    "test_x: Review texts for testing. <br>\n",
    "test_y: Sentiment labels for testing."
   ]
  },
  {
   "cell_type": "code",
   "execution_count": 7,
   "metadata": {},
   "outputs": [
    {
     "name": "stdout",
     "output_type": "stream",
     "text": [
      "Training Review 1: I just love these books! You can't read them and not laugh out loud. You'll enjoy every page of these books if you give them a chance. There are absolutely no sections that drag on and leave you wondering if it'll ever pick up. Turn the first page and hang on!\n",
      "Sentiment: POSITIVE\n",
      "\n",
      "Training Review 2: I haven't  read anything by Bella Andre that I haven't loved!  I mean it, every book is just amazing.  Her writing sucks you in to her characters and you just want more and more of them.  This series is no different.  I've read all 3 and wish there were more!  If you want some romance, hot love scenes and some great characters, this book/series is for you!\n",
      "Sentiment: POSITIVE\n",
      "\n",
      "Training Review 3: I would recommend this book for girls young and old who loves horses.  It's also a very good book for anyone who loves horses.\n",
      "Sentiment: POSITIVE\n",
      "\n",
      "Training Review 4: I stopped reading it all together.... so many things were left out of the book from the previous one and it really just felt boring to me and I ended up really disliking a lot of characters,especially the main one. I didn't really believe in the story either kinda felt fake to me.\n",
      "Sentiment: NEGATIVE\n",
      "\n",
      "Training Review 5: i never read it\n",
      "Sentiment: NEGATIVE\n",
      "\n"
     ]
    }
   ],
   "source": [
    "for i in range(5):\n",
    "    print(f\"Training Review {i+1}: {train_x[i]}\")\n",
    "    print(f\"Sentiment: {train_y[i]}\")\n",
    "    print()"
   ]
  },
  {
   "cell_type": "code",
   "execution_count": 8,
   "metadata": {},
   "outputs": [
    {
     "name": "stdout",
     "output_type": "stream",
     "text": [
      "Test Review 1: This book was really horrible. It's twilight but with mers. If you want a mer book read everblue it's better.\n",
      "Sentiment: NEGATIVE\n",
      "\n",
      "Test Review 2: Where to start... the men's conversations were women's, I know a few men and they just don't talk like that.  There was a lot of repetition, to the point of boring. Both women were old enough to act more maturely.  Character development was nonexistant for all four of the main characters.  And there was no murderer mystery development.  There were murders and then they caught the guy but it wasn't him then they caught the real guy.  Ho hum.  Clues?  None.  Motive?  He was crazy.  Ho hum.\n",
      "Sentiment: NEGATIVE\n",
      "\n",
      "Test Review 3: Was not well written. It was interesting to read but other than that I think I could have watched movie and been just as well off...\n",
      "Sentiment: NEGATIVE\n",
      "\n",
      "Test Review 4: I haven't read a urban novel in years. This has a good storyline, can't wait to read the sequel! I like the way how the author went into detail, about what the main characters were thinking. I have a feeling Khalil is going to go bonkers on Donte and a few other people.\n",
      "Sentiment: POSITIVE\n",
      "\n",
      "Test Review 5: I enjoyed this book quite a lot.  The storyline was interesting with plot twists and lovely descriptions of the scenery. I personally liked Jonah's many insights on  his personal relationship with Jesus Christ and his distinction between religion and faith. I will definitely read another Lake Superior mystery!\n",
      "Sentiment: POSITIVE\n",
      "\n"
     ]
    }
   ],
   "source": [
    "for i in range(5):\n",
    "    print(f\"Test Review {i+1}: {test_x[i]}\")\n",
    "    print(f\"Sentiment: {test_y[i]}\")\n",
    "    print()"
   ]
  }
 ],
 "metadata": {
  "kernelspec": {
   "display_name": "Python 3",
   "language": "python",
   "name": "python3"
  },
  "language_info": {
   "codemirror_mode": {
    "name": "ipython",
    "version": 3
   },
   "file_extension": ".py",
   "mimetype": "text/x-python",
   "name": "python",
   "nbconvert_exporter": "python",
   "pygments_lexer": "ipython3",
   "version": "3.12.6"
  }
 },
 "nbformat": 4,
 "nbformat_minor": 2
}
